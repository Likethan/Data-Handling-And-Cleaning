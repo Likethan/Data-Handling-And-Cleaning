{
  "nbformat": 4,
  "nbformat_minor": 0,
  "metadata": {
    "colab": {
      "provenance": []
    },
    "kernelspec": {
      "name": "python3",
      "display_name": "Python 3"
    },
    "language_info": {
      "name": "python"
    }
  },
  "cells": [
    {
      "cell_type": "code",
      "execution_count": null,
      "metadata": {
        "id": "a8_iHQB0RjRi"
      },
      "outputs": [],
      "source": [
        "# Install (if not already in Google Colab)\n",
        "!pip install pandas\n",
        "\n",
        "# Import\n",
        "import pandas as pd\n"
      ]
    },
    {
      "cell_type": "code",
      "source": [
        "# DataFrame 1\n",
        "df_sales = pd.DataFrame({\n",
        "    'OrderID': [1, 2, 3, 4],\n",
        "    'CustomerID': ['A101', 'A102', 'A103', 'A104'],\n",
        "    'Product': ['Laptop', 'Tablet', 'Laptop', 'Phone'],\n",
        "    'Amount': [70000, 20000, 72000, 30000]\n",
        "})\n",
        "\n",
        "# DataFrame 2\n",
        "df_customers = pd.DataFrame({\n",
        "    'CustomerID': ['A101', 'A102', 'A103', 'A104'],\n",
        "    'CustomerName': ['John', 'Alice', 'Bob', 'Diana'],\n",
        "    'Region': ['North', 'East', 'West', 'South']\n",
        "})\n"
      ],
      "metadata": {
        "id": "EwvP_WkbSrmg"
      },
      "execution_count": null,
      "outputs": []
    },
    {
      "cell_type": "code",
      "source": [
        "# Merge on CustomerID\n",
        "merged_df = pd.merge(df_sales, df_customers, on='CustomerID')\n",
        "print(\"Merged DataFrame:\\n\", merged_df)\n"
      ],
      "metadata": {
        "id": "e5zHia3gSri5"
      },
      "execution_count": null,
      "outputs": []
    },
    {
      "cell_type": "code",
      "source": [
        "grouped = merged_df.groupby('Region')['Amount'].sum().reset_index()\n",
        "print(\"\\nTotal Sales by Region:\\n\", grouped)\n"
      ],
      "metadata": {
        "id": "2VyYwkKiSrgY"
      },
      "execution_count": null,
      "outputs": []
    },
    {
      "cell_type": "code",
      "source": [
        "pivot_df = merged_df.pivot_table(index='Region', columns='Product', values='Amount', aggfunc='sum', fill_value=0)\n",
        "print(\"\\nPivot Table:\\n\", pivot_df)\n"
      ],
      "metadata": {
        "id": "ieKkii56Srdt"
      },
      "execution_count": null,
      "outputs": []
    },
    {
      "cell_type": "code",
      "source": [
        "filtered_df = merged_df[merged_df['Amount'] > 50000]\n",
        "print(\"\\nFiltered Sales > ₹50,000:\\n\", filtered_df)\n"
      ],
      "metadata": {
        "id": "cWVdmLSrS5tg"
      },
      "execution_count": null,
      "outputs": []
    }
  ]
}