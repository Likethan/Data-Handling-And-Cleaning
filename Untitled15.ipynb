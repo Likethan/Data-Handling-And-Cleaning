{
  "nbformat": 4,
  "nbformat_minor": 0,
  "metadata": {
    "colab": {
      "provenance": []
    },
    "kernelspec": {
      "name": "python3",
      "display_name": "Python 3"
    },
    "language_info": {
      "name": "python"
    }
  },
  "cells": [
    {
      "cell_type": "code",
      "execution_count": 1,
      "metadata": {
        "colab": {
          "base_uri": "https://localhost:8080/"
        },
        "id": "G8qalItV-tbo",
        "outputId": "b443dbfa-9cc4-478c-c013-64432beaf031"
      },
      "outputs": [
        {
          "output_type": "stream",
          "name": "stdout",
          "text": [
            "   Color  Color_encoded\n",
            "0    Red              2\n",
            "1  Green              1\n",
            "2   Blue              0\n",
            "3  Green              1\n",
            "4    Red              2\n"
          ]
        }
      ],
      "source": [
        "import pandas as pd\n",
        "from sklearn.preprocessing import LabelEncoder\n",
        "\n",
        "# Sample DataFrame\n",
        "df = pd.DataFrame({\n",
        "    'Color': ['Red', 'Green', 'Blue', 'Green', 'Red']\n",
        "})\n",
        "\n",
        "# Label Encoding\n",
        "le = LabelEncoder()\n",
        "df['Color_encoded'] = le.fit_transform(df['Color'])\n",
        "\n",
        "print(df)\n"
      ]
    },
    {
      "cell_type": "code",
      "source": [
        "import pandas as pd\n",
        "\n",
        "# Sample DataFrame\n",
        "df = pd.DataFrame({\n",
        "    'Color': ['Red', 'Green', 'Blue', 'Green', 'Red']\n",
        "})\n",
        "\n",
        "# One-Hot Encoding\n",
        "df_encoded = pd.get_dummies(df, columns=['Color'])\n",
        "\n",
        "print(df_encoded)\n"
      ],
      "metadata": {
        "colab": {
          "base_uri": "https://localhost:8080/"
        },
        "id": "zlKTJZ3Z_M1E",
        "outputId": "921babdd-0fdc-4ab3-a613-46c4c55e45f4"
      },
      "execution_count": 2,
      "outputs": [
        {
          "output_type": "stream",
          "name": "stdout",
          "text": [
            "   Color_Blue  Color_Green  Color_Red\n",
            "0       False        False       True\n",
            "1       False         True      False\n",
            "2        True        False      False\n",
            "3       False         True      False\n",
            "4       False        False       True\n"
          ]
        }
      ]
    },
    {
      "cell_type": "code",
      "source": [
        "# Google Colab Compatible: Categorical to Numeric\n",
        "\n",
        "import pandas as pd\n",
        "from sklearn.preprocessing import LabelEncoder\n",
        "\n",
        "# Sample dataset\n",
        "data = {\n",
        "    'Color': ['Red', 'Green', 'Blue', 'Green', 'Red'],\n",
        "    'Size': ['S', 'M', 'L', 'M', 'S']\n",
        "}\n",
        "df = pd.DataFrame(data)\n",
        "\n",
        "# Label Encoding for 'Size'\n",
        "le = LabelEncoder()\n",
        "df['Size_encoded'] = le.fit_transform(df['Size'])\n",
        "\n",
        "# One-Hot Encoding for 'Color'\n",
        "df = pd.get_dummies(df, columns=['Color'])\n",
        "\n",
        "print(df)\n"
      ],
      "metadata": {
        "colab": {
          "base_uri": "https://localhost:8080/"
        },
        "id": "VuPjWjp-_Msr",
        "outputId": "861854b9-77a4-4b1c-f9ec-6adfa4240f0e"
      },
      "execution_count": 3,
      "outputs": [
        {
          "output_type": "stream",
          "name": "stdout",
          "text": [
            "  Size  Size_encoded  Color_Blue  Color_Green  Color_Red\n",
            "0    S             2       False        False       True\n",
            "1    M             1       False         True      False\n",
            "2    L             0        True        False      False\n",
            "3    M             1       False         True      False\n",
            "4    S             2       False        False       True\n"
          ]
        }
      ]
    }
  ]
}