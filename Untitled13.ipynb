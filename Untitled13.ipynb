{
  "nbformat": 4,
  "nbformat_minor": 0,
  "metadata": {
    "colab": {
      "provenance": []
    },
    "kernelspec": {
      "name": "python3",
      "display_name": "Python 3"
    },
    "language_info": {
      "name": "python"
    }
  },
  "cells": [
    {
      "cell_type": "code",
      "execution_count": null,
      "metadata": {
        "id": "EkyyzS6ok0uu"
      },
      "outputs": [],
      "source": [
        "import pandas as pd\n",
        "\n",
        "# Load CSV file\n",
        "df = pd.read_csv(\"your_file.csv\")\n",
        "\n",
        "# View top 5 rows\n",
        "print(df.head())\n"
      ]
    },
    {
      "cell_type": "code",
      "source": [
        "# Check for missing values\n",
        "print(df.isnull().sum())\n",
        "\n",
        "# Drop rows with any missing values\n",
        "df_cleaned = df.dropna()\n",
        "\n",
        "# Fill missing values with mean or a specific value\n",
        "df['column_name'].fillna(df['column_name'].mean(), inplace=True)\n"
      ],
      "metadata": {
        "id": "drxeTSw0l9Uo"
      },
      "execution_count": null,
      "outputs": []
    },
    {
      "cell_type": "code",
      "source": [
        "# Convert column to integer\n",
        "df['column_name'] = df['column_name'].astype(int)\n",
        "\n",
        "# Convert date columns\n",
        "df['date_column'] = pd.to_datetime(df['date_column'])\n"
      ],
      "metadata": {
        "id": "TOUaYMaWl4aU"
      },
      "execution_count": null,
      "outputs": []
    },
    {
      "cell_type": "code",
      "source": [
        "df.rename(columns={'old_name': 'new_name'}, inplace=True)\n"
      ],
      "metadata": {
        "id": "lsCGa2Akl4W7"
      },
      "execution_count": null,
      "outputs": []
    },
    {
      "cell_type": "code",
      "source": [
        "df.drop_duplicates(inplace=True)\n"
      ],
      "metadata": {
        "id": "XtmVID9Nl4T0"
      },
      "execution_count": null,
      "outputs": []
    },
    {
      "cell_type": "code",
      "source": [
        "# Rows where column > 100\n",
        "df_filtered = df[df['column_name'] > 100]\n"
      ],
      "metadata": {
        "id": "VK8bMlwkl4Q9"
      },
      "execution_count": null,
      "outputs": []
    },
    {
      "cell_type": "code",
      "source": [
        "# One-hot encoding\n",
        "df_encoded = pd.get_dummies(df, columns=['category_column'])\n",
        "\n",
        "# Label encoding\n",
        "df['label_encoded'] = df['category_column'].astype('category').cat.codes\n"
      ],
      "metadata": {
        "id": "1X25tEGBl4ON"
      },
      "execution_count": null,
      "outputs": []
    },
    {
      "cell_type": "code",
      "source": [
        "from sklearn.preprocessing import MinMaxScaler\n",
        "\n",
        "scaler = MinMaxScaler()\n",
        "df[['col1', 'col2']] = scaler.fit_transform(df[['col1', 'col2']])\n"
      ],
      "metadata": {
        "id": "7g2Bc4Syl4LU"
      },
      "execution_count": null,
      "outputs": []
    },
    {
      "cell_type": "code",
      "source": [
        "# Example: Create column from other columns\n",
        "df['new_column'] = df['col1'] + df['col2']\n"
      ],
      "metadata": {
        "id": "gAuffIinl4IT"
      },
      "execution_count": null,
      "outputs": []
    },
    {
      "cell_type": "code",
      "source": [
        "df.to_csv(\"cleaned_data.csv\", index=False)\n"
      ],
      "metadata": {
        "id": "NQIXScrCl4CK"
      },
      "execution_count": null,
      "outputs": []
    }
  ]
}