{
  "nbformat": 4,
  "nbformat_minor": 0,
  "metadata": {
    "colab": {
      "provenance": []
    },
    "kernelspec": {
      "name": "python3",
      "display_name": "Python 3"
    },
    "language_info": {
      "name": "python"
    }
  },
  "cells": [
    {
      "cell_type": "code",
      "execution_count": null,
      "metadata": {
        "id": "Ga_s3XxVTmLx"
      },
      "outputs": [],
      "source": [
        "# 📦 Step 1: Import Required Libraries\n",
        "import pandas as pd\n",
        "import numpy as np\n",
        "import matplotlib.pyplot as plt\n",
        "import seaborn as sns\n",
        "\n",
        "# Set style for plots\n",
        "sns.set(style='whitegrid')\n",
        "plt.rcParams['figure.figsize'] = (12, 6)\n",
        "\n",
        "# 📥 Step 2: Load the Data (CSV or Excel)\n",
        "# Upload file in Google Colab manually or use a path\n",
        "# from google.colab import files\n",
        "# uploaded = files.upload()\n",
        "\n",
        "# Example for CSV:\n",
        "df = pd.read_csv('your_file.csv')\n",
        "\n",
        "# If using Excel:\n",
        "# df = pd.read_excel('your_file.xlsx')\n",
        "\n",
        "# 👀 Step 3: Display Basic Info\n",
        "print(\"📊 First 5 Rows:\")\n",
        "display(df.head())\n",
        "\n",
        "print(\"\\n🔍 Data Info:\")\n",
        "df.info()\n",
        "\n",
        "print(\"\\n📏 Summary Statistics:\")\n",
        "display(df.describe())\n",
        "\n",
        "print(\"\\n🧩 Missing Values:\")\n",
        "print(df.isnull().sum())\n",
        "\n",
        "print(\"\\n🔁 Duplicates:\")\n",
        "print(df.duplicated().sum())\n",
        "\n",
        "# 🧮 Step 4: Check Data Types\n",
        "print(\"\\n🔠 Data Types:\")\n",
        "print(df.dtypes)\n",
        "\n",
        "# 📊 Step 5: Univariate Analysis\n",
        "for col in df.select_dtypes(include='number').columns:\n",
        "    sns.histplot(df[col], kde=True)\n",
        "    plt.title(f'Distribution of {col}')\n",
        "    plt.xlabel(col)\n",
        "    plt.ylabel('Frequency')\n",
        "    plt.show()\n",
        "\n",
        "# 🔗 Step 6: Correlation Heatmap\n",
        "plt.figure(figsize=(10, 8))\n",
        "sns.heatmap(df.corr(numeric_only=True), annot=True, cmap='coolwarm')\n",
        "plt.title('Correlation Matrix')\n",
        "plt.show()\n",
        "\n",
        "# 📈 Step 7: Boxplots for Outlier Detection\n",
        "for col in df.select_dtypes(include='number').columns:\n",
        "    sns.boxplot(x=df[col])\n",
        "    plt.title(f'Boxplot of {col}')\n",
        "    plt.show()\n",
        "\n",
        "# 📊 Step 8: Categorical Feature Analysis\n",
        "for col in df.select_dtypes(include='object').columns:\n",
        "    sns.countplot(y=df[col], order=df[col].value_counts().index)\n",
        "    plt.title(f'Countplot of {col}')\n",
        "    plt.show()\n"
      ]
    }
  ]
}