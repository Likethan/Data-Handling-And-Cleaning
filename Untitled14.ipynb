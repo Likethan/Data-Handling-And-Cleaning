{
  "nbformat": 4,
  "nbformat_minor": 0,
  "metadata": {
    "colab": {
      "provenance": []
    },
    "kernelspec": {
      "name": "python3",
      "display_name": "Python 3"
    },
    "language_info": {
      "name": "python"
    }
  },
  "cells": [
    {
      "cell_type": "code",
      "execution_count": 3,
      "metadata": {
        "id": "LM4lPShv2gRu"
      },
      "outputs": [],
      "source": [
        "import pandas as pd\n",
        "import numpy as np\n",
        "\n",
        "# Example DataFrame\n",
        "data = {\n",
        "    'Name': ['Alice', 'Bob', 'Charlie', 'David', 'Eve', 'Frank', 'Eve'],\n",
        "    'Age': [25, np.nan, 35, 120, 28, -5, 28],\n",
        "    'Salary': [50000, 60000, 70000, 80000, None, 45000, None]\n",
        "}\n",
        "df = pd.DataFrame(data)\n",
        ""
      ]
    },
    {
      "cell_type": "code",
      "source": [
        "# ✅ Import Libraries\n",
        "import pandas as pd\n",
        "import numpy as np\n",
        "\n",
        "# ✅ Sample DataFrame\n",
        "data = {\n",
        "    'Name': ['Alice', 'Bob', 'Charlie', 'David', 'Eve', 'Frank', 'Eve'],\n",
        "    'Age': [25, np.nan, 35, 120, 28, -5, 28],\n",
        "    'Salary': [50000, 60000, 70000, 80000, None, 45000, None]\n",
        "}\n",
        "\n",
        "df = pd.DataFrame(data)\n",
        "print(\"Original DataFrame:\\n\", df)\n",
        "\n",
        "# -----------------------------------------\n",
        "# 🔍 1. Handling Null Values\n",
        "# -----------------------------------------\n",
        "print(\"\\n🔍 Null Values (Before):\\n\", df.isnull().sum())\n",
        "\n",
        "# Option 1: Drop rows with any null values\n",
        "df_no_nulls = df.dropna()\n",
        "\n",
        "# Option 2: Fill nulls with median or mean\n",
        "df['Age'].fillna(df['Age'].median(), inplace=True)\n",
        "df['Salary'].fillna(df['Salary'].mean(), inplace=True)\n",
        "\n",
        "print(\"\\n✅ Null Values (After Fill):\\n\", df.isnull().sum())\n",
        "\n",
        "# -----------------------------------------\n",
        "# 🚨 2. Handling Outliers (Using IQR)\n",
        "# -----------------------------------------\n",
        "def remove_outliers_iqr(data, column):\n",
        "    Q1 = data[column].quantile(0.25)\n",
        "    Q3 = data[column].quantile(0.75)\n",
        "    IQR = Q3 - Q1\n",
        "    lower_bound = Q1 - 1.5 * IQR\n",
        "    upper_bound = Q3 + 1.5 * IQR\n",
        "    return data[(data[column] >= lower_bound) & (data[column] <= upper_bound)]\n",
        "\n",
        "df = remove_outliers_iqr(df, 'Age')\n",
        "df = remove_outliers_iqr(df, 'Salary')\n",
        "\n",
        "print(\"\\n✅ After Removing Outliers:\\n\", df)\n",
        "\n",
        "# -----------------------------------------\n",
        "# 🔁 3. Handling Duplicates\n",
        "# -----------------------------------------\n",
        "print(\"\\n🔁 Duplicates Found:\", df.duplicated().sum())\n",
        "df = df.drop_duplicates()\n",
        "\n",
        "print(\"\\n✅ Final Cleaned DataFrame:\\n\", df)\n"
      ],
      "metadata": {
        "colab": {
          "base_uri": "https://localhost:8080/"
        },
        "id": "zW3aU8QT249S",
        "outputId": "78e9e599-eca8-49af-fa86-d992c20ca52f"
      },
      "execution_count": 4,
      "outputs": [
        {
          "output_type": "stream",
          "name": "stdout",
          "text": [
            "Original DataFrame:\n",
            "       Name    Age   Salary\n",
            "0    Alice   25.0  50000.0\n",
            "1      Bob    NaN  60000.0\n",
            "2  Charlie   35.0  70000.0\n",
            "3    David  120.0  80000.0\n",
            "4      Eve   28.0      NaN\n",
            "5    Frank   -5.0  45000.0\n",
            "6      Eve   28.0      NaN\n",
            "\n",
            "🔍 Null Values (Before):\n",
            " Name      0\n",
            "Age       1\n",
            "Salary    2\n",
            "dtype: int64\n",
            "\n",
            "✅ Null Values (After Fill):\n",
            " Name      0\n",
            "Age       0\n",
            "Salary    0\n",
            "dtype: int64\n",
            "\n",
            "✅ After Removing Outliers:\n",
            "   Name   Age   Salary\n",
            "1  Bob  28.0  60000.0\n",
            "4  Eve  28.0  61000.0\n",
            "6  Eve  28.0  61000.0\n",
            "\n",
            "🔁 Duplicates Found: 1\n",
            "\n",
            "✅ Final Cleaned DataFrame:\n",
            "   Name   Age   Salary\n",
            "1  Bob  28.0  60000.0\n",
            "4  Eve  28.0  61000.0\n"
          ]
        },
        {
          "output_type": "stream",
          "name": "stderr",
          "text": [
            "/tmp/ipython-input-4-1114236429.py:24: FutureWarning: A value is trying to be set on a copy of a DataFrame or Series through chained assignment using an inplace method.\n",
            "The behavior will change in pandas 3.0. This inplace method will never work because the intermediate object on which we are setting values always behaves as a copy.\n",
            "\n",
            "For example, when doing 'df[col].method(value, inplace=True)', try using 'df.method({col: value}, inplace=True)' or df[col] = df[col].method(value) instead, to perform the operation inplace on the original object.\n",
            "\n",
            "\n",
            "  df['Age'].fillna(df['Age'].median(), inplace=True)\n",
            "/tmp/ipython-input-4-1114236429.py:25: FutureWarning: A value is trying to be set on a copy of a DataFrame or Series through chained assignment using an inplace method.\n",
            "The behavior will change in pandas 3.0. This inplace method will never work because the intermediate object on which we are setting values always behaves as a copy.\n",
            "\n",
            "For example, when doing 'df[col].method(value, inplace=True)', try using 'df.method({col: value}, inplace=True)' or df[col] = df[col].method(value) instead, to perform the operation inplace on the original object.\n",
            "\n",
            "\n",
            "  df['Salary'].fillna(df['Salary'].mean(), inplace=True)\n"
          ]
        }
      ]
    },
    {
      "cell_type": "code",
      "source": [
        "def remove_outliers_iqr(data, column):\n",
        "    Q1 = data[column].quantile(0.25)\n",
        "    Q3 = data[column].quantile(0.75)\n",
        "    IQR = Q3 - Q1\n",
        "    lower_bound = Q1 - 1.5 * IQR\n",
        "    upper_bound = Q3 + 1.5 * IQR\n",
        "    return data[(data[column] >= lower_bound) & (data[column] <= upper_bound)]\n",
        "\n",
        "# Remove outliers from 'Age'\n",
        "df = remove_outliers_iqr(df, 'Age')\n"
      ],
      "metadata": {
        "id": "f3KQyva0243_"
      },
      "execution_count": 5,
      "outputs": []
    },
    {
      "cell_type": "code",
      "source": [
        "# Check for duplicates\n",
        "print(df.duplicated().sum())\n",
        "\n",
        "# Remove duplicate rows\n",
        "df = df.drop_duplicates()\n"
      ],
      "metadata": {
        "colab": {
          "base_uri": "https://localhost:8080/"
        },
        "id": "S_NcgTGz3Lrr",
        "outputId": "1d00153c-a981-4b68-e0a4-61bd82295653"
      },
      "execution_count": 6,
      "outputs": [
        {
          "output_type": "stream",
          "name": "stdout",
          "text": [
            "0\n"
          ]
        }
      ]
    },
    {
      "cell_type": "code",
      "source": [
        "print(df)\n"
      ],
      "metadata": {
        "colab": {
          "base_uri": "https://localhost:8080/"
        },
        "id": "8tirQfxS3Ljc",
        "outputId": "3a0c2a68-5367-4483-bf4f-68c095991a35"
      },
      "execution_count": 7,
      "outputs": [
        {
          "output_type": "stream",
          "name": "stdout",
          "text": [
            "  Name   Age   Salary\n",
            "1  Bob  28.0  60000.0\n",
            "4  Eve  28.0  61000.0\n"
          ]
        }
      ]
    }
  ]
}